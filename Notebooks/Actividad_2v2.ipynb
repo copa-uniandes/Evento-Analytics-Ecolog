{
 "cells": [
  {
   "cell_type": "code",
   "execution_count": 9,
   "id": "animated-brother",
   "metadata": {},
   "outputs": [
    {
     "name": "stdout",
     "output_type": "stream",
     "text": [
      "--2021-08-04 23:58:30--  https://raw.githubusercontent.com/juanbeta98/proyecto_ecolog/main/Actividad_2.py\n",
      "Resolving raw.githubusercontent.com (raw.githubusercontent.com)... 185.199.108.133, 185.199.111.133, 185.199.110.133, ...\n",
      "Connecting to raw.githubusercontent.com (raw.githubusercontent.com)|185.199.108.133|:443... connected.\n",
      "HTTP request sent, awaiting response... 200 OK\n",
      "Length: 12697 (12K) [text/plain]\n",
      "Saving to: ‘Actividad_2.py.1’\n",
      "\n",
      "Actividad_2.py.1    100%[===================>]  12.40K  --.-KB/s    in 0s      \n",
      "\n",
      "2021-08-04 23:58:31 (84.0 MB/s) - ‘Actividad_2.py.1’ saved [12697/12697]\n",
      "\n",
      "Requirement already satisfied: plotly in /srv/conda/envs/notebook/lib/python3.6/site-packages (5.1.0)\n",
      "Requirement already satisfied: six in /srv/conda/envs/notebook/lib/python3.6/site-packages (from plotly) (1.15.0)\n",
      "Requirement already satisfied: tenacity>=6.2.0 in /srv/conda/envs/notebook/lib/python3.6/site-packages (from plotly) (8.0.1)\n"
     ]
    }
   ],
   "source": [
    "import os\n",
    "os.chdir('..')\n",
    "import plotly.graph_objects as go\n",
    "from ipywidgets import interactive, interact\n",
    "import ipywidgets as widgets\n",
    "from plotly.subplots import make_subplots\n",
    "from IPython.display import display\n",
    "from IPython.display import clear_output\n",
    "from Scripts.Actividad_2 import *"
   ]
  },
  {
   "cell_type": "markdown",
   "id": "registered-bryan",
   "metadata": {},
   "source": [
    "# Actividad 2\n",
    "\n",
    "## \"*Utilizar datos como insumo para tomar una decisión*\""
   ]
  },
  {
   "cell_type": "markdown",
   "id": "missing-swift",
   "metadata": {},
   "source": [
    "## Instrucciones \n",
    "Para poder realizar la actividad con éxito te solicitamos seguir los siguientes pasos:\n",
    "1. Ubicar la barra de opciones ubicada en la parte superior de este archivo.\n",
    "2. Seleccionar el menú 'Cell' o 'Celda'.\n",
    "3. Seleccionar la opción 'Run all' o 'Ejecutar todas'.\n",
    "4. Seguir las indicaciones que aparecen a lo largo del documento."
   ]
  },
  {
   "cell_type": "markdown",
   "id": "played-purse",
   "metadata": {},
   "source": [
    "## Estadísticas descriptivas\n",
    "Como continuación a la actividad, utilizaremos estadísticas descriptivas para adquirir una perspectiva de la situación de interés. Para esto, se utlizarán las siguentes gráficas:\n",
    "\n",
    "1. Una serie de tiempo con los precios históricos de cada producto en las tiendas donde este producto se ofrezca.\n",
    "2. Un gráfico de línea con intervalos de confianza indicando la variabilidad de los precios del producto en cada tienda donde este producto se ofrezca.\n",
    "\n",
    "Además, podrás utilizar la barra deslizante para filtrar las tiendas de acuerdo con la distancia. Es decir, puedes definir una distancia máxima y no se mostrarán tiendas fuera de este rango, así ofrezcan el producto seleccionado."
   ]
  },
  {
   "cell_type": "code",
   "execution_count": 2,
   "id": "rational-situation",
   "metadata": {
    "scrolled": false
   },
   "outputs": [
    {
     "data": {
      "application/vnd.jupyter.widget-view+json": {
       "model_id": "279e6169590644fba15e83750f3cd5b0",
       "version_major": 2,
       "version_minor": 0
      },
      "text/plain": [
       "interactive(children=(Dropdown(description='producto', options=('Arroz', 'Papa', 'Tomates', 'Camisas', 'Zapato…"
      ]
     },
     "metadata": {},
     "output_type": "display_data"
    }
   ],
   "source": [
    "def graficar_series(producto, distancia):\n",
    "    \n",
    "    # Serie de tiempo\n",
    "    fig = go.Figure()\n",
    "    \n",
    "    for tienda in retorno_tiendas(producto, distancia):\n",
    "        fig.add_trace(go.Scatter(x = dias,y = [precios[producto, tienda, dia] for dia in dias],\n",
    "                    name = tienda))\n",
    "    \n",
    "    fig.update_layout(title = f\"Precios históricos de: {producto}\", xaxis_title = \"Días\", yaxis_title = \"Precios\",\n",
    "        legend_title = \"Almacen\", xaxis = dict(tickmode = 'linear', tick0 = 1, dtick = 1))\n",
    "    \n",
    "    # Boxplots\n",
    "    fig1 = go.Figure(data = [go.Box(y = [precios[producto, tienda, dia] for dia in dias], \n",
    "                                    name = f'{tienda}', marker_color = color[tienda])\n",
    "                                    for tienda in retorno_tiendas(producto, distancia)],\n",
    "                     \n",
    "    layout = go.Layout(title = f\"Distribución de precios de: {producto}\",  xaxis_title = \"Tiendas\", \n",
    "                       yaxis_title = \"Precio\")\n",
    "    )\n",
    "    \n",
    "    fig.show()\n",
    "    fig1.show()\n",
    "\n",
    "# Generación de los comandos y gráfico por medio de interactive\n",
    "interactive_plot = interactive(graficar_series, producto = productos, distancia = (3,30,0.5))\n",
    "display(interactive_plot)"
   ]
  },
  {
   "cell_type": "markdown",
   "id": "single-coupon",
   "metadata": {},
   "source": [
    "## Selección de tiendas\n",
    "\n",
    "A partir de la información disponible, deberás seleccionar el lugar dónde comprarás cada uno de los productos. Esta selección será de acuerdo a tu criterio de decisión. Para esto, por favor ingresa en cada una de las casillas de la siguiente sección en cuál tienda decides comprar cada uno de los productos.\n",
    "</div> "
   ]
  },
  {
   "cell_type": "code",
   "execution_count": 10,
   "id": "framed-deviation",
   "metadata": {},
   "outputs": [
    {
     "data": {
      "application/vnd.jupyter.widget-view+json": {
       "model_id": "2c362d18328b40d49a3dd225bf1a7a5d",
       "version_major": 2,
       "version_minor": 0
      },
      "text/plain": [
       "interactive(children=(Dropdown(description='Arroz', options=('Exito', 'Carulla', 'Corabastos'), value='Exito')…"
      ]
     },
     "metadata": {},
     "output_type": "display_data"
    },
    {
     "data": {
      "application/vnd.jupyter.widget-view+json": {
       "model_id": "d4b361c97afa47fca81224cfa78a1ad2",
       "version_major": 2,
       "version_minor": 0
      },
      "text/plain": [
       "interactive(children=(Dropdown(description='Mantequilla', options=('Exito', 'Carulla', 'Corabastos'), value='E…"
      ]
     },
     "metadata": {},
     "output_type": "display_data"
    },
    {
     "data": {
      "application/vnd.jupyter.widget-view+json": {
       "model_id": "ce6cf95086564a5fb691bf0d261a40ac",
       "version_major": 2,
       "version_minor": 0
      },
      "text/plain": [
       "interactive(children=(Dropdown(description='Tomate', options=('Exito', 'Carulla', 'Corabastos'), value='Exito'…"
      ]
     },
     "metadata": {},
     "output_type": "display_data"
    },
    {
     "data": {
      "application/vnd.jupyter.widget-view+json": {
       "model_id": "b4dd5eedacc24f7e9ef36427a29dda37",
       "version_major": 2,
       "version_minor": 0
      },
      "text/plain": [
       "interactive(children=(Dropdown(description='Camisas', options=('Exito', 'Falabella', 'Outlet las Americas', 'S…"
      ]
     },
     "metadata": {},
     "output_type": "display_data"
    },
    {
     "data": {
      "application/vnd.jupyter.widget-view+json": {
       "model_id": "94383b38ce574a238385294ad5a2508f",
       "version_major": 2,
       "version_minor": 0
      },
      "text/plain": [
       "interactive(children=(Dropdown(description='Zapatos', options=('Exito', 'Falabella', 'Outlet las Americas', 'S…"
      ]
     },
     "metadata": {},
     "output_type": "display_data"
    },
    {
     "data": {
      "application/vnd.jupyter.widget-view+json": {
       "model_id": "8a3c9f94728c4c739e97ab111c2cc173",
       "version_major": 2,
       "version_minor": 0
      },
      "text/plain": [
       "interactive(children=(Dropdown(description='Audifonos', options=('Exito', 'Falabella', 'Ktronix'), value='Exit…"
      ]
     },
     "metadata": {},
     "output_type": "display_data"
    },
    {
     "data": {
      "application/vnd.jupyter.widget-view+json": {
       "model_id": "655b0b9a1d104c18b5344216120bf415",
       "version_major": 2,
       "version_minor": 0
      },
      "text/plain": [
       "interactive(children=(Dropdown(description='Plancha', options=('Exito', 'Falabella', 'Ktronix'), value='Exito'…"
      ]
     },
     "metadata": {},
     "output_type": "display_data"
    }
   ],
   "source": [
    "Arz_list, Mtq_list,Tte_list, Cam_list, Zap_list, Aud_list, Pla_list = seleccion()\n",
    "display(Arz_list,Mtq_list,Tte_list,Cam_list,Zap_list,Aud_list,Pla_list)"
   ]
  },
  {
   "cell_type": "markdown",
   "id": "homeless-tulsa",
   "metadata": {},
   "source": [
    "Una vez hayas seleccionado todas las tiendas de acuerdo con tu criterio, por favor presiona el siguiente botón. De esta manera, podrás ver graficadas las instalaciones que has seleccionado. Ten en cuenta las siguientes convenciones para el gráfico:\n",
    "- H: La ubicación de su hogar\n",
    "- E: Exito \n",
    "- F: Falabella \n",
    "- Z: Zara\n",
    "- O: Olimplica\n",
    "- TB: Tienda de Barrio"
   ]
  },
  {
   "cell_type": "code",
   "execution_count": 11,
   "id": "destroyed-credit",
   "metadata": {},
   "outputs": [
    {
     "data": {
      "application/vnd.jupyter.widget-view+json": {
       "model_id": "2f4112f6316c4228b8eb645993f786c2",
       "version_major": 2,
       "version_minor": 0
      },
      "text/plain": [
       "Button(description='Graficar', style=ButtonStyle())"
      ]
     },
     "metadata": {},
     "output_type": "display_data"
    },
    {
     "data": {
      "application/vnd.jupyter.widget-view+json": {
       "model_id": "b76689a9f93243988fdec33872210825",
       "version_major": 2,
       "version_minor": 0
      },
      "text/plain": [
       "Output()"
      ]
     },
     "metadata": {},
     "output_type": "display_data"
    }
   ],
   "source": [
    "button1 = widgets.Button(description=\"Graficar\")\n",
    "output1 = widgets.Output()\n",
    "\n",
    "display(button1)\n",
    "def on_button_clicked1(b):\n",
    "    \n",
    "    clear_output()\n",
    "    with output1:\n",
    "        clear_output()\n",
    "        grafica_tiendas(True)\n",
    "    display(button1)\n",
    "    display(output1)\n",
    "    \n",
    "    \n",
    "button1.on_click(on_button_clicked1)"
   ]
  },
  {
   "cell_type": "markdown",
   "id": "solar-kitty",
   "metadata": {},
   "source": [
    "## Elegir la ruta\n",
    "\n",
    "Hasta este punto, has escogido dónde deseas comprar cada uno de los productos que necesitas. El siguiente paso es escoger la ruta por la cual visitarás dichos establecimientos. Para esto, se te presenta la herramienta desplegada en la siguiente sección. Esta herramienta cuenta con las listas desplegables, en las cuales deberás seleccionar el orden en el que deseas visitar las tiendas seleccionadas. Posteriormente, deberás seleccionar el botón de la parte inferior para visualizar la ruta que se genera a partir de tu elección.\n",
    "</div> "
   ]
  },
  {
   "cell_type": "code",
   "execution_count": 12,
   "id": "typical-vertical",
   "metadata": {},
   "outputs": [
    {
     "data": {
      "application/vnd.jupyter.widget-view+json": {
       "model_id": "a6c248c9055b4562be896216deb440fb",
       "version_major": 2,
       "version_minor": 0
      },
      "text/plain": [
       "Button(description='Elegir', style=ButtonStyle())"
      ]
     },
     "metadata": {},
     "output_type": "display_data"
    },
    {
     "data": {
      "application/vnd.jupyter.widget-view+json": {
       "model_id": "d6bb59110a724c9fb2cd1d4227c5f3ff",
       "version_major": 2,
       "version_minor": 0
      },
      "text/plain": [
       "Output()"
      ]
     },
     "metadata": {},
     "output_type": "display_data"
    }
   ],
   "source": [
    "def elegir_ordenes(Elegir):\n",
    "    elegir_orden()\n",
    "    if Elegir in [0,1]:\n",
    "        for i in list(range(0,len(tiendas_sel))):\n",
    "            display(elecciones[i])\n",
    "\n",
    "button2 = widgets.Button(description=\"Elegir\")\n",
    "output2 = widgets.Output()\n",
    "\n",
    "display(button2)\n",
    "def on_button_clicked2(b):\n",
    "    clear_output()\n",
    "    with output2:\n",
    "        clear_output()\n",
    "        elegir_ordenes(True)\n",
    "    clear_output()\n",
    "    display(button2)\n",
    "    display(output2)\n",
    "    \n",
    "button2.on_click(on_button_clicked2)"
   ]
  },
  {
   "cell_type": "code",
   "execution_count": 13,
   "id": "universal-purse",
   "metadata": {},
   "outputs": [
    {
     "data": {
      "application/vnd.jupyter.widget-view+json": {
       "model_id": "a80b411c895e4c299285e034f52fd986",
       "version_major": 2,
       "version_minor": 0
      },
      "text/plain": [
       "Button(description='Graficar', style=ButtonStyle())"
      ]
     },
     "metadata": {},
     "output_type": "display_data"
    },
    {
     "data": {
      "application/vnd.jupyter.widget-view+json": {
       "model_id": "84d4432995f34db4a07555e9a70c4b7d",
       "version_major": 2,
       "version_minor": 0
      },
      "text/plain": [
       "Output()"
      ]
     },
     "metadata": {},
     "output_type": "display_data"
    }
   ],
   "source": [
    "button3 = widgets.Button(description=\"Graficar\")\n",
    "output3 = widgets.Output()\n",
    "\n",
    "display(button3)\n",
    "def on_button_clicked3(b):\n",
    "    \n",
    "    clear_output()\n",
    "    with output3:\n",
    "        clear_output()\n",
    "        graficar_rutas(True)\n",
    "    display(button3)\n",
    "    display(output3)\n",
    "\n",
    "button3.on_click(on_button_clicked3)"
   ]
  },
  {
   "cell_type": "markdown",
   "id": "ruled-recommendation",
   "metadata": {},
   "source": [
    "## Resultados\n",
    "Con base en la selección de tiendas realizada y la ruta escogida, se presentan a continuación los costos asociados al transporte, a la compra de los productos y al total. Para visualizar estos costos, presione shift y enter en la siguiente celda."
   ]
  },
  {
   "cell_type": "code",
   "execution_count": 17,
   "id": "trained-oakland",
   "metadata": {
    "scrolled": false
   },
   "outputs": [
    {
     "name": "stdout",
     "output_type": "stream",
     "text": [
      "El costo de la compra es: $ 214300\n",
      "El costo de la ruta es: $ 47910.17\n",
      "El costo total es: $ 262210.17\n"
     ]
    },
    {
     "data": {
      "image/png": "[encoded data removed]",
      "text/plain": [
       "<Figure size 432x288 with 1 Axes>"
      ]
     },
     "metadata": {
      "needs_background": "light"
     },
     "output_type": "display_data"
    }
   ],
   "source": [
    "c_c, c_m, c_t = calcula_costos()\n",
    "bar1= go.Figure(data = [go.Bar(x = ['Costo Compra', 'Costo Ruta', 'Costo Total'],\n",
    "                               y = [c_c, c_m, c_t] ),])\n",
    "\n",
    "layout = go.Layout(title = f\"Costos\",  xaxis_title = \"Costos\", \n",
    "                       yaxis_title = \"Costo\")\n",
    "\n",
    "plt.bar(['Costo Compra', 'Costo Ruta', 'Costo Total'], [c_c, c_m, c_t])\n",
    "plt.title('Indicadores') \n",
    "plt.show()  "
   ]
  },
  {
   "cell_type": "markdown",
   "id": "meaning-local",
   "metadata": {},
   "source": [
    "## Créditos\n",
    "\n",
    "**Autor(es):** Juan Manuel Betancourt Osorio, Juan David Reyes Jaimes\n",
    "\n",
    "**Fecha última actualización:**: 04/08/2021"
   ]
  }
 ],
 "metadata": {
  "kernelspec": {
   "display_name": "Python 3",
   "language": "python",
   "name": "python3"
  },
  "language_info": {
   "codemirror_mode": {
    "name": "ipython",
    "version": 3
   },
   "file_extension": ".py",
   "mimetype": "text/x-python",
   "name": "python",
   "nbconvert_exporter": "python",
   "pygments_lexer": "ipython3",
   "version": "3.7.10"
  }
 },
 "nbformat": 4,
 "nbformat_minor": 5
}
