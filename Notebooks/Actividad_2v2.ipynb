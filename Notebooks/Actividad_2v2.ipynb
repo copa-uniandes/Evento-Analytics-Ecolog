{
 "cells": [
  {
   "cell_type": "markdown",
   "id": "registered-bryan",
   "metadata": {},
   "source": [
    "![ETC Header](../_static/ETC_logo.png)\n",
    "\n",
    "# Actividad 2\n",
    "\n",
    "## \"*Utilizar datos como insumo para tomar una decisión*\"\n",
    "\n",
    "## Instrucciones \n",
    "\n",
    "Para poder realizar la actividad con éxito te solicitamos seguir los siguientes pasos:\n",
    "\n",
    "1. Ubicar la barra de opciones ubicada en la parte superior de este archivo.\n",
    "2. Seleccionar el menú 'Cell' o 'Celda'.\n",
    "3. Seleccionar la opción 'Run all' o 'Ejecutar todas'.\n",
    "4. Seguir las indicaciones que aparecen a lo largo del documento."
   ]
  },
  {
   "cell_type": "code",
   "execution_count": null,
   "id": "animated-brother",
   "metadata": {},
   "outputs": [],
   "source": [
    "%cd ..\n",
    "import plotly.graph_objects as go\n",
    "from ipywidgets import interactive, interact\n",
    "import ipywidgets as widgets\n",
    "from plotly.subplots import make_subplots\n",
    "from IPython.display import display\n",
    "from IPython.display import clear_output\n",
    "from Scripts.Actividad_2 import *\n",
    "\n",
    "print('Los paquetes han sido importados exitosamente.')"
   ]
  },
  {
   "cell_type": "markdown",
   "id": "played-purse",
   "metadata": {},
   "source": [
    "## Estadísticas descriptivas\n",
    "\n",
    "Como continuación a la actividad, utilizaremos estadísticas descriptivas para adquirir una perspectiva de la situación de interés. Para esto, se utlizarán las siguentes gráficas:\n",
    "\n",
    "1. Una serie de tiempo con los precios históricos de cada producto en las tiendas donde este producto se ofrezca.\n",
    "2. Un gráfico de línea con intervalos de confianza indicando la variabilidad de los precios del producto en cada tienda donde este producto se ofrezca.\n",
    "\n",
    "Además, podrás utilizar la barra deslizante para filtrar las tiendas de acuerdo con la distancia. Es decir, puedes definir una distancia máxima y no se mostrarán tiendas fuera de este rango, así ofrezcan el producto seleccionado."
   ]
  },
  {
   "cell_type": "code",
   "execution_count": null,
   "id": "rational-situation",
   "metadata": {
    "scrolled": false
   },
   "outputs": [],
   "source": [
    "def graficar_series(producto, distancia):\n",
    "    \n",
    "    # Serie de tiempo\n",
    "    fig = go.Figure()\n",
    "    \n",
    "    for tienda in retorno_tiendas(producto, distancia):\n",
    "        fig.add_trace(go.Scatter(x = dias,y = [precios[producto, tienda, dia] for dia in dias],\n",
    "                    name = tienda))\n",
    "    \n",
    "    fig.update_layout(title = f\"Precios históricos de: {producto}\", xaxis_title = \"Días\", yaxis_title = \"Precios\",\n",
    "        legend_title = \"Almacen\", xaxis = dict(tickmode = 'linear', tick0 = 1, dtick = 1))\n",
    "    \n",
    "    # Boxplots\n",
    "    fig1 = go.Figure(data = [go.Box(y = [precios[producto, tienda, dia] for dia in dias], \n",
    "                                    name = f'{tienda}', marker_color = color[tienda])\n",
    "                                    for tienda in retorno_tiendas(producto, distancia)],\n",
    "                     \n",
    "    layout = go.Layout(title = f\"Distribución de precios de: {producto}\",  xaxis_title = \"Tiendas\", \n",
    "                       yaxis_title = \"Precio\")\n",
    "    )\n",
    "    \n",
    "    fig.show()\n",
    "    fig1.show()\n",
    "\n",
    "# Generación de los comandos y gráfico por medio de interactive\n",
    "interactive_plot = interactive(graficar_series, producto = productos, distancia = (3,30,0.5))\n",
    "display(interactive_plot)"
   ]
  },
  {
   "cell_type": "markdown",
   "id": "single-coupon",
   "metadata": {},
   "source": [
    "## Selección de tiendas\n",
    "\n",
    "A partir de la información disponible, deberás seleccionar el lugar dónde comprarás cada uno de los productos. Esta selección será de acuerdo a tu criterio de decisión. Para esto, por favor ingresa en cada una de las casillas de la siguiente sección en cuál tienda decides comprar cada uno de los productos.\n",
    "</div> "
   ]
  },
  {
   "cell_type": "code",
   "execution_count": null,
   "id": "framed-deviation",
   "metadata": {},
   "outputs": [],
   "source": [
    "Arz_list, Mtq_list,Tte_list, Cam_list, Zap_list, Aud_list, Pla_list = seleccion()\n",
    "display(Arz_list,Mtq_list,Tte_list,Cam_list,Zap_list,Aud_list,Pla_list)"
   ]
  },
  {
   "cell_type": "markdown",
   "id": "homeless-tulsa",
   "metadata": {},
   "source": [
    "Una vez hayas seleccionado todas las tiendas de acuerdo con tu criterio, por favor presiona el siguiente botón. De esta manera, podrás ver graficadas las instalaciones que has seleccionado. Ten en cuenta las siguientes convenciones para el gráfico:\n",
    "\n",
    "- H: La ubicación de su hogar\n",
    "- E: Exito \n",
    "- F: Falabella \n",
    "- Z: Zara\n",
    "- O: Olimplica\n",
    "- TB: Tienda de Barrio"
   ]
  },
  {
   "cell_type": "code",
   "execution_count": null,
   "id": "destroyed-credit",
   "metadata": {},
   "outputs": [],
   "source": [
    "button1 = widgets.Button(description=\"Graficar\")\n",
    "output1 = widgets.Output()\n",
    "\n",
    "display(button1)\n",
    "def on_button_clicked1(b):\n",
    "    \n",
    "    clear_output()\n",
    "    with output1:\n",
    "        clear_output()\n",
    "        grafica_tiendas(True)\n",
    "    display(button1)\n",
    "    display(output1)\n",
    "    \n",
    "    \n",
    "button1.on_click(on_button_clicked1)"
   ]
  },
  {
   "cell_type": "markdown",
   "id": "solar-kitty",
   "metadata": {},
   "source": [
    "## Elegir la ruta\n",
    "\n",
    "Hasta este punto, has escogido dónde deseas comprar cada uno de los productos que necesitas. El siguiente paso es escoger la ruta por la cual visitarás dichos establecimientos. Para esto, se te presenta la herramienta desplegada en la siguiente sección. Esta herramienta cuenta con las listas desplegables, en las cuales deberás seleccionar el orden en el que deseas visitar las tiendas seleccionadas. Posteriormente, deberás seleccionar el botón de la parte inferior para visualizar la ruta que se genera a partir de tu elección."
   ]
  },
  {
   "cell_type": "code",
   "execution_count": null,
   "id": "typical-vertical",
   "metadata": {},
   "outputs": [],
   "source": [
    "def elegir_ordenes(Elegir):\n",
    "    elegir_orden()\n",
    "    if Elegir in [0,1]:\n",
    "        for i in list(range(0,len(tiendas_sel))):\n",
    "            display(elecciones[i])\n",
    "\n",
    "button2 = widgets.Button(description=\"Elegir\")\n",
    "output2 = widgets.Output()\n",
    "\n",
    "display(button2)\n",
    "def on_button_clicked2(b):\n",
    "    clear_output()\n",
    "    with output2:\n",
    "        clear_output()\n",
    "        elegir_ordenes(True)\n",
    "    clear_output()\n",
    "    display(button2)\n",
    "    display(output2)\n",
    "    \n",
    "button2.on_click(on_button_clicked2)"
   ]
  },
  {
   "cell_type": "code",
   "execution_count": null,
   "id": "universal-purse",
   "metadata": {},
   "outputs": [],
   "source": [
    "button3 = widgets.Button(description=\"Graficar\")\n",
    "output3 = widgets.Output()\n",
    "\n",
    "display(button3)\n",
    "def on_button_clicked3(b):\n",
    "    \n",
    "    clear_output()\n",
    "    with output3:\n",
    "        clear_output()\n",
    "        graficar_rutas(True)\n",
    "    display(button3)\n",
    "    display(output3)\n",
    "\n",
    "button3.on_click(on_button_clicked3)"
   ]
  },
  {
   "cell_type": "markdown",
   "id": "ruled-recommendation",
   "metadata": {},
   "source": [
    "## Resultados\n",
    "\n",
    "Con base en la selección de tiendas realizada y la ruta escogida, se presentan a continuación los costos asociados al transporte, a la compra de los productos y al total. Para visualizar estos costos, presione shift y enter en la siguiente celda."
   ]
  },
  {
   "cell_type": "code",
   "execution_count": null,
   "id": "trained-oakland",
   "metadata": {
    "scrolled": false
   },
   "outputs": [],
   "source": [
    "c_c, c_m, c_t = calcula_costos()\n",
    "\n",
    "plt.bar(['Costo Compra', 'Costo Ruta', 'Costo Total'], [c_c, c_m, c_t])\n",
    "plt.title('Indicadores') \n",
    "plt.show()  "
   ]
  },
  {
   "cell_type": "markdown",
   "id": "meaning-local",
   "metadata": {},
   "source": [
    "## Créditos\n",
    "\n",
    "**Autor(es):** Juan Manuel Betancourt Osorio, Juan David Reyes Jaimes\n",
    "\n",
    "**Fecha última actualización:**: 04/08/2021"
   ]
  }
 ],
 "metadata": {
  "kernelspec": {
   "display_name": "Python 3",
   "language": "python",
   "name": "python3"
  },
  "language_info": {
   "codemirror_mode": {
    "name": "ipython",
    "version": 3
   },
   "file_extension": ".py",
   "mimetype": "text/x-python",
   "name": "python",
   "nbconvert_exporter": "python",
   "pygments_lexer": "ipython3",
   "version": "3.7.10"
  }
 },
 "nbformat": 4,
 "nbformat_minor": 5
}
