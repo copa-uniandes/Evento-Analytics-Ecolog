{
 "cells": [
  {
   "cell_type": "markdown",
   "metadata": {
    "id": "aylRJTFru71L"
   },
   "source": [
    "![ETC Header](../_static/ETC_logo.png)\n",
    "\n",
    "# Actividad 3 \n",
    "\n",
    "## \"*Ventajas de tener un sistema de apoyo a la decisión*\"\n",
    "\n",
    "## Instrucciones \n",
    "\n",
    "Para poder realizar la actividad con éxito te solicitamos seguir los siguientes pasos:\n",
    "1. Ubicar la barra de opciones ubicada en la parte superior de este Notebook.\n",
    "2. Seleccionar el menú 'Cell' o 'Celda'.\n",
    "3. Seleccionar la opción 'Run all' o 'Ejecutar todas'.\n",
    "4. Seguir las indicaciones que aparecen a lo largo del documento."
   ]
  },
  {
   "cell_type": "code",
   "execution_count": null,
   "metadata": {
    "executionInfo": {
     "elapsed": 174,
     "status": "ok",
     "timestamp": 1628027791653,
     "user": {
      "displayName": "Daniel Cuellar",
      "photoUrl": "https://lh3.googleusercontent.com/a-/AOh14Ghe3C3UAXQXp7JvuIW1RYpeot2BzrfZzi3cfn_Vlg=s64",
      "userId": "15041485619963839708"
     },
     "user_tz": 300
    },
    "id": "ofdgS29j78bs"
   },
   "outputs": [],
   "source": [
    "import numpy as np\n",
    "import pulp as lp\n",
    "import matplotlib.pyplot as plt\n",
    "import networkx as nx\n",
    "from ipywidgets import interactive, interact\n",
    "\n",
    "print('Los paquetes han sido importados exitosamente.')"
   ]
  },
  {
   "cell_type": "markdown",
   "metadata": {},
   "source": [
    "## Implementación de un sistema de apoyo a la decisión\n",
    "A continuación, utilizarás un sistema de apoyo a la decisión diseñado por nosotros para resolver el problema que hemos trabajado en la actividad."
   ]
  },
  {
   "cell_type": "code",
   "execution_count": null,
   "metadata": {
    "executionInfo": {
     "elapsed": 162,
     "status": "ok",
     "timestamp": 1628028007233,
     "user": {
      "displayName": "Daniel Cuellar",
      "photoUrl": "https://lh3.googleusercontent.com/a-/AOh14Ghe3C3UAXQXp7JvuIW1RYpeot2BzrfZzi3cfn_Vlg=s64",
      "userId": "15041485619963839708"
     },
     "user_tz": 300
    },
    "id": "45RYQ6un8t38"
   },
   "outputs": [],
   "source": [
    "%cd ..\n",
    "\n",
    "from Scripts.Codesv1 import Carga_Datos, Corre_Modelo_Matematico, Dibuja_Ruta, asignar_objetivo\n",
    "\n",
    "print('Los paquetes han sido importados exitosamente.')"
   ]
  },
  {
   "cell_type": "code",
   "execution_count": null,
   "metadata": {
    "executionInfo": {
     "elapsed": 171,
     "status": "ok",
     "timestamp": 1628028009381,
     "user": {
      "displayName": "Daniel Cuellar",
      "photoUrl": "https://lh3.googleusercontent.com/a-/AOh14Ghe3C3UAXQXp7JvuIW1RYpeot2BzrfZzi3cfn_Vlg=s64",
      "userId": "15041485619963839708"
     },
     "user_tz": 300
    },
    "id": "02EvZitd8Ef-",
    "scrolled": true
   },
   "outputs": [],
   "source": [
    "V, M, K, fwd, rev, Cij, fik, qik, Mk, dk, coor1 = Carga_Datos()"
   ]
  },
  {
   "cell_type": "code",
   "execution_count": null,
   "metadata": {
    "executionInfo": {
     "elapsed": 178,
     "status": "ok",
     "timestamp": 1628028420182,
     "user": {
      "displayName": "Daniel Cuellar",
      "photoUrl": "https://lh3.googleusercontent.com/a-/AOh14Ghe3C3UAXQXp7JvuIW1RYpeot2BzrfZzi3cfn_Vlg=s64",
      "userId": "15041485619963839708"
     },
     "user_tz": 300
    },
    "id": "w2JmYFYwCB_H",
    "scrolled": false
   },
   "outputs": [],
   "source": [
    "lista = interactive(asignar_objetivo, objetivo = ['Optimizar ruta', 'Optimizar compra', 'Optimizar ambas'])\n",
    "display(lista)"
   ]
  },
  {
   "cell_type": "markdown",
   "metadata": {},
   "source": [
    "## Créditos\n",
    "\n",
    "**Autor(es):** Daniel Hernando Cuellar Usaquen, Juan David Reyes Jaimes\n",
    "\n",
    "**Fecha última actualización:**: 04/08/2021"
   ]
  }
 ],
 "metadata": {
  "colab": {
   "authorship_tag": "ABX9TyPlPVwmESAXF2d8duG/8Xwu",
   "name": "Actividad_3.ipynb",
   "provenance": []
  },
  "kernelspec": {
   "display_name": "Python 3",
   "language": "python",
   "name": "python3"
  },
  "language_info": {
   "codemirror_mode": {
    "name": "ipython",
    "version": 3
   },
   "file_extension": ".py",
   "mimetype": "text/x-python",
   "name": "python",
   "nbconvert_exporter": "python",
   "pygments_lexer": "ipython3",
   "version": "3.7.10"
  }
 },
 "nbformat": 4,
 "nbformat_minor": 1
}
